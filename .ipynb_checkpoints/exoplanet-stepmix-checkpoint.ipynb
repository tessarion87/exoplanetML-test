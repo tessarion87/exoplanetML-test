{
 "cells": [
  {
   "cell_type": "code",
   "execution_count": 1,
   "id": "bf74d837",
   "metadata": {},
   "outputs": [],
   "source": [
    "import pandas as pd\n",
    "from stepmix.stepmix import StepMix\n",
    "from sklearn.metrics import rand_score"
   ]
  },
  {
   "cell_type": "code",
   "execution_count": 2,
   "id": "d4929dc9",
   "metadata": {},
   "outputs": [],
   "source": [
    "# Goal: determine if latent class analysis (LCA) using stepmix can differentiate between abiotic and biotic worlds\n",
    "# using atmospheric chemical reaction network topological metrics"
   ]
  },
  {
   "cell_type": "code",
   "execution_count": 3,
   "id": "b60dee7c",
   "metadata": {},
   "outputs": [],
   "source": [
    "# import exoplanet data; see Fisher et al 2025 for more info\n",
    "abiotic_flux=pd.read_csv('Archean Earth flux network metrics, no life.csv') #typical abiotic case\n",
    "biotic_flux=pd.read_csv('Archean Earth flux network metrics, with life.csv') #biotic case\n",
    "abiotic_steady_state=pd.read_csv('Archean Earth steady state network metrics, no life.csv') #weird abiotic case"
   ]
  },
  {
   "cell_type": "code",
   "execution_count": 4,
   "id": "242479da",
   "metadata": {},
   "outputs": [],
   "source": [
    "# first, let's analyze the typical abiotic case and the biotic case"
   ]
  },
  {
   "cell_type": "code",
   "execution_count": 12,
   "id": "2c535859",
   "metadata": {},
   "outputs": [],
   "source": [
    "exo_combined=pd.concat([abiotic_flux,biotic_flux])\n",
    "exo_data=exo_combined[['Mean degree','Average shortest path length','CH4 abundance']]"
   ]
  },
  {
   "cell_type": "code",
   "execution_count": 13,
   "id": "782fe167",
   "metadata": {},
   "outputs": [
    {
     "name": "stdout",
     "output_type": "stream",
     "text": [
      "Fitting StepMix...\n"
     ]
    },
    {
     "name": "stderr",
     "output_type": "stream",
     "text": [
      "Initializations (n_init) : 100%|█| 1/1 [00:00<00:00,  9.58it/s, max_LL=-1.58e+4,"
     ]
    },
    {
     "name": "stdout",
     "output_type": "stream",
     "text": [
      "================================================================================\n",
      "MODEL REPORT\n",
      "================================================================================\n",
      "    ============================================================================\n",
      "    Measurement model parameters\n",
      "    ============================================================================\n",
      "          model_name                            categorical        \n",
      "          class_no                                        0       1\n",
      "          param variable                                           \n",
      "          pis   Average shortest path length_10      0.0132  0.3288\n",
      "                Average shortest path length_11      0.0717  0.1488\n",
      "                Average shortest path length_12      0.2362  0.8100\n",
      "                Average shortest path length_13      0.9998  0.1595\n",
      "                Average shortest path length_14      0.2606  0.0000\n",
      "                Average shortest path length_4       0.0000  0.0009\n",
      "                Average shortest path length_5       0.0000  0.0014\n",
      "                Average shortest path length_6       0.0000  0.0017\n",
      "                Average shortest path length_7       0.0000  0.0068\n",
      "                Average shortest path length_8       0.0020  0.1090\n",
      "                Average shortest path length_9       0.0090  0.4101\n",
      "                Mean degree_11                       0.0000  0.0201\n",
      "                Mean degree_12                       0.0000  0.0562\n",
      "                Mean degree_13                       0.0136  0.9238\n",
      "                Mean degree_14                       0.9864  0.0000\n",
      "    ============================================================================\n",
      "    Class weights\n",
      "    ============================================================================\n",
      "        Class 1 : 0.37\n",
      "        Class 2 : 0.63\n",
      "    ============================================================================\n",
      "    Fit for 2 latent classes\n",
      "    ============================================================================\n",
      "    Estimation method             : 1-step\n",
      "    Number of observations        : 6701\n",
      "    Number of latent classes      : 2\n",
      "    Number of estimated parameters: 53\n",
      "    Log-likelihood (LL)           : -15836.8175\n",
      "    -2LL                          : 31673.6351\n",
      "    Average LL                    : -2.3634\n",
      "    AIC                           : 31779.64\n",
      "    BIC                           : 32140.57\n",
      "    CAIC                          : 32193.57\n",
      "    Sample-Size Adjusted BIC      : 32439.08\n",
      "    Entropy                       : 65.2853\n",
      "    Scaled Relative Entropy       : 0.9859\n"
     ]
    },
    {
     "name": "stderr",
     "output_type": "stream",
     "text": [
      "\n"
     ]
    },
    {
     "data": {
      "text/html": [
       "<style>#sk-container-id-3 {color: black;}#sk-container-id-3 pre{padding: 0;}#sk-container-id-3 div.sk-toggleable {background-color: white;}#sk-container-id-3 label.sk-toggleable__label {cursor: pointer;display: block;width: 100%;margin-bottom: 0;padding: 0.3em;box-sizing: border-box;text-align: center;}#sk-container-id-3 label.sk-toggleable__label-arrow:before {content: \"▸\";float: left;margin-right: 0.25em;color: #696969;}#sk-container-id-3 label.sk-toggleable__label-arrow:hover:before {color: black;}#sk-container-id-3 div.sk-estimator:hover label.sk-toggleable__label-arrow:before {color: black;}#sk-container-id-3 div.sk-toggleable__content {max-height: 0;max-width: 0;overflow: hidden;text-align: left;background-color: #f0f8ff;}#sk-container-id-3 div.sk-toggleable__content pre {margin: 0.2em;color: black;border-radius: 0.25em;background-color: #f0f8ff;}#sk-container-id-3 input.sk-toggleable__control:checked~div.sk-toggleable__content {max-height: 200px;max-width: 100%;overflow: auto;}#sk-container-id-3 input.sk-toggleable__control:checked~label.sk-toggleable__label-arrow:before {content: \"▾\";}#sk-container-id-3 div.sk-estimator input.sk-toggleable__control:checked~label.sk-toggleable__label {background-color: #d4ebff;}#sk-container-id-3 div.sk-label input.sk-toggleable__control:checked~label.sk-toggleable__label {background-color: #d4ebff;}#sk-container-id-3 input.sk-hidden--visually {border: 0;clip: rect(1px 1px 1px 1px);clip: rect(1px, 1px, 1px, 1px);height: 1px;margin: -1px;overflow: hidden;padding: 0;position: absolute;width: 1px;}#sk-container-id-3 div.sk-estimator {font-family: monospace;background-color: #f0f8ff;border: 1px dotted black;border-radius: 0.25em;box-sizing: border-box;margin-bottom: 0.5em;}#sk-container-id-3 div.sk-estimator:hover {background-color: #d4ebff;}#sk-container-id-3 div.sk-parallel-item::after {content: \"\";width: 100%;border-bottom: 1px solid gray;flex-grow: 1;}#sk-container-id-3 div.sk-label:hover label.sk-toggleable__label {background-color: #d4ebff;}#sk-container-id-3 div.sk-serial::before {content: \"\";position: absolute;border-left: 1px solid gray;box-sizing: border-box;top: 0;bottom: 0;left: 50%;z-index: 0;}#sk-container-id-3 div.sk-serial {display: flex;flex-direction: column;align-items: center;background-color: white;padding-right: 0.2em;padding-left: 0.2em;position: relative;}#sk-container-id-3 div.sk-item {position: relative;z-index: 1;}#sk-container-id-3 div.sk-parallel {display: flex;align-items: stretch;justify-content: center;background-color: white;position: relative;}#sk-container-id-3 div.sk-item::before, #sk-container-id-3 div.sk-parallel-item::before {content: \"\";position: absolute;border-left: 1px solid gray;box-sizing: border-box;top: 0;bottom: 0;left: 50%;z-index: -1;}#sk-container-id-3 div.sk-parallel-item {display: flex;flex-direction: column;z-index: 1;position: relative;background-color: white;}#sk-container-id-3 div.sk-parallel-item:first-child::after {align-self: flex-end;width: 50%;}#sk-container-id-3 div.sk-parallel-item:last-child::after {align-self: flex-start;width: 50%;}#sk-container-id-3 div.sk-parallel-item:only-child::after {width: 0;}#sk-container-id-3 div.sk-dashed-wrapped {border: 1px dashed gray;margin: 0 0.4em 0.5em 0.4em;box-sizing: border-box;padding-bottom: 0.4em;background-color: white;}#sk-container-id-3 div.sk-label label {font-family: monospace;font-weight: bold;display: inline-block;line-height: 1.2em;}#sk-container-id-3 div.sk-label-container {text-align: center;}#sk-container-id-3 div.sk-container {/* jupyter's `normalize.less` sets `[hidden] { display: none; }` but bootstrap.min.css set `[hidden] { display: none !important; }` so we also need the `!important` here to be able to override the default hidden behavior on the sphinx rendered scikit-learn.org. See: https://github.com/scikit-learn/scikit-learn/issues/21755 */display: inline-block !important;position: relative;}#sk-container-id-3 div.sk-text-repr-fallback {display: none;}</style><div id=\"sk-container-id-3\" class=\"sk-top-container\"><div class=\"sk-text-repr-fallback\"><pre>StepMix(measurement=&#x27;categorical&#x27;, verbose=1)</pre><b>In a Jupyter environment, please rerun this cell to show the HTML representation or trust the notebook. <br />On GitHub, the HTML representation is unable to render, please try loading this page with nbviewer.org.</b></div><div class=\"sk-container\" hidden><div class=\"sk-item\"><div class=\"sk-estimator sk-toggleable\"><input class=\"sk-toggleable__control sk-hidden--visually\" id=\"sk-estimator-id-3\" type=\"checkbox\" checked><label for=\"sk-estimator-id-3\" class=\"sk-toggleable__label sk-toggleable__label-arrow\">StepMix</label><div class=\"sk-toggleable__content\"><pre>StepMix(measurement=&#x27;categorical&#x27;, verbose=1)</pre></div></div></div></div></div>"
      ],
      "text/plain": [
       "StepMix(measurement='categorical', verbose=1)"
      ]
     },
     "execution_count": 13,
     "metadata": {},
     "output_type": "execute_result"
    }
   ],
   "source": [
    "model = StepMix(n_components=2, measurement=\"categorical\",verbose=1)\n",
    "model.fit(exo_data)"
   ]
  },
  {
   "cell_type": "code",
   "execution_count": 14,
   "id": "6955579e",
   "metadata": {},
   "outputs": [
    {
     "name": "stderr",
     "output_type": "stream",
     "text": [
      "/tmp/ipykernel_14360/1700208285.py:2: SettingWithCopyWarning: \n",
      "A value is trying to be set on a copy of a slice from a DataFrame.\n",
      "Try using .loc[row_indexer,col_indexer] = value instead\n",
      "\n",
      "See the caveats in the documentation: https://pandas.pydata.org/pandas-docs/stable/user_guide/indexing.html#returning-a-view-versus-a-copy\n",
      "  exo_data['exo_predict']=model.predict(exo_data)\n"
     ]
    }
   ],
   "source": [
    "#calculate predictions based on LCA weights and stats\n",
    "exo_data['exo_predict']=model.predict(exo_data)"
   ]
  },
  {
   "cell_type": "code",
   "execution_count": 15,
   "id": "b5e24114",
   "metadata": {},
   "outputs": [
    {
     "name": "stdout",
     "output_type": "stream",
     "text": [
      "Has life?       0     1\n",
      "exo_predict            \n",
      "0             466  1984\n",
      "1            4210    41\n"
     ]
    }
   ],
   "source": [
    "#Now let's see how accurate the predictions turned out to be, first using crosstabs\n",
    "exo_crosstabs=pd.crosstab(exo_data['exo_predict'],exo_combined['Has life?'])\n",
    "print(exo_crosstabs)"
   ]
  },
  {
   "cell_type": "code",
   "execution_count": 16,
   "id": "ab89b6f5",
   "metadata": {},
   "outputs": [
    {
     "name": "stdout",
     "output_type": "stream",
     "text": [
      "0.8601074021030499\n"
     ]
    }
   ],
   "source": [
    "#And then by calculating the Rand score\n",
    "rand=rand_score(exo_data['exo_predict'],exo_combined['Has life?'])\n",
    "print(rand)"
   ]
  },
  {
   "cell_type": "code",
   "execution_count": null,
   "id": "f6b7030b",
   "metadata": {},
   "outputs": [],
   "source": [
    "#Not bad! Let's make it a little more interesting by including the weird steady state abiotic case"
   ]
  },
  {
   "cell_type": "code",
   "execution_count": 23,
   "id": "48e672a7",
   "metadata": {},
   "outputs": [],
   "source": [
    "exo_combined=pd.concat([abiotic_flux,biotic_flux,abiotic_steady_state])\n",
    "exo_data=exo_combined[['Mean degree','Average shortest path length','CH4 abundance']]"
   ]
  },
  {
   "cell_type": "code",
   "execution_count": 24,
   "id": "330151e0",
   "metadata": {},
   "outputs": [
    {
     "name": "stdout",
     "output_type": "stream",
     "text": [
      "Fitting StepMix...\n"
     ]
    },
    {
     "name": "stderr",
     "output_type": "stream",
     "text": [
      "Initializations (n_init) : 100%|█| 1/1 [00:00<00:00,  6.48it/s, max_LL=-1.99e+4,"
     ]
    },
    {
     "name": "stdout",
     "output_type": "stream",
     "text": [
      "================================================================================\n",
      "MODEL REPORT\n",
      "================================================================================\n",
      "    ============================================================================\n",
      "    Measurement model parameters\n",
      "    ============================================================================\n",
      "          model_name                            categorical        \n",
      "          class_no                                        0       1\n",
      "          param variable                                           \n",
      "          pis   Average shortest path length_10      0.3543  0.0594\n",
      "                Average shortest path length_11      0.0470  0.2965\n",
      "                Average shortest path length_12      0.9220  0.1653\n",
      "                Average shortest path length_13      0.0651  0.9165\n",
      "                Average shortest path length_14      0.0000  0.2214\n",
      "                Average shortest path length_4       0.0000  0.0010\n",
      "                Average shortest path length_5       0.0000  0.0015\n",
      "                Average shortest path length_6       0.0000  0.0018\n",
      "                Average shortest path length_7       0.0054  0.0023\n",
      "                Average shortest path length_8       0.1190  0.0065\n",
      "                Average shortest path length_9       0.4676  0.0070\n",
      "                CH4 abundance_0                      0.0003  0.0012\n",
      "                Mean degree_11                       0.0229  0.0000\n",
      "                Mean degree_12                       0.0416  0.1864\n",
      "                Mean degree_13                       0.9354  0.1325\n",
      "                Mean degree_14                       0.0000  0.6811\n",
      "    ============================================================================\n",
      "    Class weights\n",
      "    ============================================================================\n",
      "        Class 1 : 0.48\n",
      "        Class 2 : 0.52\n",
      "    ============================================================================\n",
      "    Fit for 2 latent classes\n",
      "    ============================================================================\n",
      "    Estimation method             : 1-step\n",
      "    Number of observations        : 7701\n",
      "    Number of latent classes      : 2\n",
      "    Number of estimated parameters: 55\n",
      "    Log-likelihood (LL)           : -19878.5597\n",
      "    -2LL                          : 39757.1195\n",
      "    Average LL                    : -2.5813\n",
      "    AIC                           : 39867.12\n",
      "    BIC                           : 40249.32\n",
      "    CAIC                          : 40304.32\n",
      "    Sample-Size Adjusted BIC      : 40566.74\n",
      "    Entropy                       : 484.1066\n",
      "    Scaled Relative Entropy       : 0.9093\n"
     ]
    },
    {
     "name": "stderr",
     "output_type": "stream",
     "text": [
      "\n"
     ]
    },
    {
     "data": {
      "text/html": [
       "<style>#sk-container-id-5 {color: black;}#sk-container-id-5 pre{padding: 0;}#sk-container-id-5 div.sk-toggleable {background-color: white;}#sk-container-id-5 label.sk-toggleable__label {cursor: pointer;display: block;width: 100%;margin-bottom: 0;padding: 0.3em;box-sizing: border-box;text-align: center;}#sk-container-id-5 label.sk-toggleable__label-arrow:before {content: \"▸\";float: left;margin-right: 0.25em;color: #696969;}#sk-container-id-5 label.sk-toggleable__label-arrow:hover:before {color: black;}#sk-container-id-5 div.sk-estimator:hover label.sk-toggleable__label-arrow:before {color: black;}#sk-container-id-5 div.sk-toggleable__content {max-height: 0;max-width: 0;overflow: hidden;text-align: left;background-color: #f0f8ff;}#sk-container-id-5 div.sk-toggleable__content pre {margin: 0.2em;color: black;border-radius: 0.25em;background-color: #f0f8ff;}#sk-container-id-5 input.sk-toggleable__control:checked~div.sk-toggleable__content {max-height: 200px;max-width: 100%;overflow: auto;}#sk-container-id-5 input.sk-toggleable__control:checked~label.sk-toggleable__label-arrow:before {content: \"▾\";}#sk-container-id-5 div.sk-estimator input.sk-toggleable__control:checked~label.sk-toggleable__label {background-color: #d4ebff;}#sk-container-id-5 div.sk-label input.sk-toggleable__control:checked~label.sk-toggleable__label {background-color: #d4ebff;}#sk-container-id-5 input.sk-hidden--visually {border: 0;clip: rect(1px 1px 1px 1px);clip: rect(1px, 1px, 1px, 1px);height: 1px;margin: -1px;overflow: hidden;padding: 0;position: absolute;width: 1px;}#sk-container-id-5 div.sk-estimator {font-family: monospace;background-color: #f0f8ff;border: 1px dotted black;border-radius: 0.25em;box-sizing: border-box;margin-bottom: 0.5em;}#sk-container-id-5 div.sk-estimator:hover {background-color: #d4ebff;}#sk-container-id-5 div.sk-parallel-item::after {content: \"\";width: 100%;border-bottom: 1px solid gray;flex-grow: 1;}#sk-container-id-5 div.sk-label:hover label.sk-toggleable__label {background-color: #d4ebff;}#sk-container-id-5 div.sk-serial::before {content: \"\";position: absolute;border-left: 1px solid gray;box-sizing: border-box;top: 0;bottom: 0;left: 50%;z-index: 0;}#sk-container-id-5 div.sk-serial {display: flex;flex-direction: column;align-items: center;background-color: white;padding-right: 0.2em;padding-left: 0.2em;position: relative;}#sk-container-id-5 div.sk-item {position: relative;z-index: 1;}#sk-container-id-5 div.sk-parallel {display: flex;align-items: stretch;justify-content: center;background-color: white;position: relative;}#sk-container-id-5 div.sk-item::before, #sk-container-id-5 div.sk-parallel-item::before {content: \"\";position: absolute;border-left: 1px solid gray;box-sizing: border-box;top: 0;bottom: 0;left: 50%;z-index: -1;}#sk-container-id-5 div.sk-parallel-item {display: flex;flex-direction: column;z-index: 1;position: relative;background-color: white;}#sk-container-id-5 div.sk-parallel-item:first-child::after {align-self: flex-end;width: 50%;}#sk-container-id-5 div.sk-parallel-item:last-child::after {align-self: flex-start;width: 50%;}#sk-container-id-5 div.sk-parallel-item:only-child::after {width: 0;}#sk-container-id-5 div.sk-dashed-wrapped {border: 1px dashed gray;margin: 0 0.4em 0.5em 0.4em;box-sizing: border-box;padding-bottom: 0.4em;background-color: white;}#sk-container-id-5 div.sk-label label {font-family: monospace;font-weight: bold;display: inline-block;line-height: 1.2em;}#sk-container-id-5 div.sk-label-container {text-align: center;}#sk-container-id-5 div.sk-container {/* jupyter's `normalize.less` sets `[hidden] { display: none; }` but bootstrap.min.css set `[hidden] { display: none !important; }` so we also need the `!important` here to be able to override the default hidden behavior on the sphinx rendered scikit-learn.org. See: https://github.com/scikit-learn/scikit-learn/issues/21755 */display: inline-block !important;position: relative;}#sk-container-id-5 div.sk-text-repr-fallback {display: none;}</style><div id=\"sk-container-id-5\" class=\"sk-top-container\"><div class=\"sk-text-repr-fallback\"><pre>StepMix(measurement=&#x27;categorical&#x27;, verbose=1)</pre><b>In a Jupyter environment, please rerun this cell to show the HTML representation or trust the notebook. <br />On GitHub, the HTML representation is unable to render, please try loading this page with nbviewer.org.</b></div><div class=\"sk-container\" hidden><div class=\"sk-item\"><div class=\"sk-estimator sk-toggleable\"><input class=\"sk-toggleable__control sk-hidden--visually\" id=\"sk-estimator-id-5\" type=\"checkbox\" checked><label for=\"sk-estimator-id-5\" class=\"sk-toggleable__label sk-toggleable__label-arrow\">StepMix</label><div class=\"sk-toggleable__content\"><pre>StepMix(measurement=&#x27;categorical&#x27;, verbose=1)</pre></div></div></div></div></div>"
      ],
      "text/plain": [
       "StepMix(measurement='categorical', verbose=1)"
      ]
     },
     "execution_count": 24,
     "metadata": {},
     "output_type": "execute_result"
    }
   ],
   "source": [
    "model = StepMix(n_components=2, measurement=\"categorical\",verbose=1)\n",
    "model.fit(exo_data)"
   ]
  },
  {
   "cell_type": "code",
   "execution_count": 25,
   "id": "838334e2",
   "metadata": {},
   "outputs": [
    {
     "name": "stderr",
     "output_type": "stream",
     "text": [
      "/tmp/ipykernel_14360/109608242.py:2: SettingWithCopyWarning: \n",
      "A value is trying to be set on a copy of a slice from a DataFrame.\n",
      "Try using .loc[row_indexer,col_indexer] = value instead\n",
      "\n",
      "See the caveats in the documentation: https://pandas.pydata.org/pandas-docs/stable/user_guide/indexing.html#returning-a-view-versus-a-copy\n",
      "  exo_data['exo_predict']=model.predict(exo_data)\n"
     ]
    }
   ],
   "source": [
    "# Generate predictions\n",
    "exo_data['exo_predict']=model.predict(exo_data)"
   ]
  },
  {
   "cell_type": "code",
   "execution_count": 26,
   "id": "b662e1ab",
   "metadata": {},
   "outputs": [
    {
     "name": "stdout",
     "output_type": "stream",
     "text": [
      "Has life?       0     1\n",
      "exo_predict            \n",
      "0            3752     3\n",
      "1            1924  2022\n",
      "0.6247241292663965\n"
     ]
    }
   ],
   "source": [
    "# Now let's see how we did\n",
    "\n",
    "exo_crosstabs=pd.crosstab(exo_data['exo_predict'],exo_combined['Has life?'])\n",
    "\n",
    "print(exo_crosstabs)\n",
    "\n",
    "rand=rand_score(exo_data['exo_predict'],exo_combined['Has life?'])\n",
    "\n",
    "print(rand)\n"
   ]
  },
  {
   "cell_type": "code",
   "execution_count": 28,
   "id": "5d58f3cd",
   "metadata": {},
   "outputs": [],
   "source": [
    "# Hmmmm...not as good. But we know from Fisher et al 2025 that CH4 abundance can actually be confounding when\n",
    "# comparing the abiotic steady state case and the biotic case. Let's try using a different metric"
   ]
  },
  {
   "cell_type": "code",
   "execution_count": 29,
   "id": "3ebb7866",
   "metadata": {},
   "outputs": [
    {
     "name": "stdout",
     "output_type": "stream",
     "text": [
      "Fitting StepMix...\n"
     ]
    },
    {
     "name": "stderr",
     "output_type": "stream",
     "text": [
      "Initializations (n_init) : 100%|█| 1/1 [00:00<00:00,  3.75it/s, max_LL=-1.14e+4,"
     ]
    },
    {
     "name": "stdout",
     "output_type": "stream",
     "text": [
      "================================================================================\n",
      "MODEL REPORT\n",
      "================================================================================\n",
      "    ============================================================================\n",
      "    Measurement model parameters\n",
      "    ============================================================================\n",
      "          model_name                            categorical        \n",
      "          class_no                                        0       1\n",
      "          param variable                                           \n",
      "          pis   Average shortest path length_10      0.1135  0.0000\n",
      "                Average shortest path length_11      0.8925  1.0000\n",
      "                Average shortest path length_12      0.9502  0.0000\n",
      "                Average shortest path length_13      0.0000  0.9999\n",
      "                Average shortest path length_9       0.0042  0.0000\n",
      "                Mean degree_11                       0.0198  0.0000\n",
      "                Mean degree_12                       0.2096  0.0000\n",
      "                Mean degree_13                       0.7706  0.2020\n",
      "                Mean degree_14                       0.0000  0.7980\n",
      "    ============================================================================\n",
      "    Class weights\n",
      "    ============================================================================\n",
      "        Class 1 : 0.56\n",
      "        Class 2 : 0.44\n",
      "    ============================================================================\n",
      "    Fit for 2 latent classes\n",
      "    ============================================================================\n",
      "    Estimation method             : 1-step\n",
      "    Number of observations        : 7701\n",
      "    Number of latent classes      : 2\n",
      "    Number of estimated parameters: 49\n",
      "    Log-likelihood (LL)           : -11405.3099\n",
      "    -2LL                          : 22810.6198\n",
      "    Average LL                    : -1.4810\n",
      "    AIC                           : 22908.62\n",
      "    BIC                           : 23249.13\n",
      "    CAIC                          : 23298.13\n",
      "    Sample-Size Adjusted BIC      : 23531.92\n",
      "    Entropy                       : 0.4853\n",
      "    Scaled Relative Entropy       : 0.9999\n"
     ]
    },
    {
     "name": "stderr",
     "output_type": "stream",
     "text": [
      "\n"
     ]
    },
    {
     "data": {
      "text/html": [
       "<style>#sk-container-id-6 {color: black;}#sk-container-id-6 pre{padding: 0;}#sk-container-id-6 div.sk-toggleable {background-color: white;}#sk-container-id-6 label.sk-toggleable__label {cursor: pointer;display: block;width: 100%;margin-bottom: 0;padding: 0.3em;box-sizing: border-box;text-align: center;}#sk-container-id-6 label.sk-toggleable__label-arrow:before {content: \"▸\";float: left;margin-right: 0.25em;color: #696969;}#sk-container-id-6 label.sk-toggleable__label-arrow:hover:before {color: black;}#sk-container-id-6 div.sk-estimator:hover label.sk-toggleable__label-arrow:before {color: black;}#sk-container-id-6 div.sk-toggleable__content {max-height: 0;max-width: 0;overflow: hidden;text-align: left;background-color: #f0f8ff;}#sk-container-id-6 div.sk-toggleable__content pre {margin: 0.2em;color: black;border-radius: 0.25em;background-color: #f0f8ff;}#sk-container-id-6 input.sk-toggleable__control:checked~div.sk-toggleable__content {max-height: 200px;max-width: 100%;overflow: auto;}#sk-container-id-6 input.sk-toggleable__control:checked~label.sk-toggleable__label-arrow:before {content: \"▾\";}#sk-container-id-6 div.sk-estimator input.sk-toggleable__control:checked~label.sk-toggleable__label {background-color: #d4ebff;}#sk-container-id-6 div.sk-label input.sk-toggleable__control:checked~label.sk-toggleable__label {background-color: #d4ebff;}#sk-container-id-6 input.sk-hidden--visually {border: 0;clip: rect(1px 1px 1px 1px);clip: rect(1px, 1px, 1px, 1px);height: 1px;margin: -1px;overflow: hidden;padding: 0;position: absolute;width: 1px;}#sk-container-id-6 div.sk-estimator {font-family: monospace;background-color: #f0f8ff;border: 1px dotted black;border-radius: 0.25em;box-sizing: border-box;margin-bottom: 0.5em;}#sk-container-id-6 div.sk-estimator:hover {background-color: #d4ebff;}#sk-container-id-6 div.sk-parallel-item::after {content: \"\";width: 100%;border-bottom: 1px solid gray;flex-grow: 1;}#sk-container-id-6 div.sk-label:hover label.sk-toggleable__label {background-color: #d4ebff;}#sk-container-id-6 div.sk-serial::before {content: \"\";position: absolute;border-left: 1px solid gray;box-sizing: border-box;top: 0;bottom: 0;left: 50%;z-index: 0;}#sk-container-id-6 div.sk-serial {display: flex;flex-direction: column;align-items: center;background-color: white;padding-right: 0.2em;padding-left: 0.2em;position: relative;}#sk-container-id-6 div.sk-item {position: relative;z-index: 1;}#sk-container-id-6 div.sk-parallel {display: flex;align-items: stretch;justify-content: center;background-color: white;position: relative;}#sk-container-id-6 div.sk-item::before, #sk-container-id-6 div.sk-parallel-item::before {content: \"\";position: absolute;border-left: 1px solid gray;box-sizing: border-box;top: 0;bottom: 0;left: 50%;z-index: -1;}#sk-container-id-6 div.sk-parallel-item {display: flex;flex-direction: column;z-index: 1;position: relative;background-color: white;}#sk-container-id-6 div.sk-parallel-item:first-child::after {align-self: flex-end;width: 50%;}#sk-container-id-6 div.sk-parallel-item:last-child::after {align-self: flex-start;width: 50%;}#sk-container-id-6 div.sk-parallel-item:only-child::after {width: 0;}#sk-container-id-6 div.sk-dashed-wrapped {border: 1px dashed gray;margin: 0 0.4em 0.5em 0.4em;box-sizing: border-box;padding-bottom: 0.4em;background-color: white;}#sk-container-id-6 div.sk-label label {font-family: monospace;font-weight: bold;display: inline-block;line-height: 1.2em;}#sk-container-id-6 div.sk-label-container {text-align: center;}#sk-container-id-6 div.sk-container {/* jupyter's `normalize.less` sets `[hidden] { display: none; }` but bootstrap.min.css set `[hidden] { display: none !important; }` so we also need the `!important` here to be able to override the default hidden behavior on the sphinx rendered scikit-learn.org. See: https://github.com/scikit-learn/scikit-learn/issues/21755 */display: inline-block !important;position: relative;}#sk-container-id-6 div.sk-text-repr-fallback {display: none;}</style><div id=\"sk-container-id-6\" class=\"sk-top-container\"><div class=\"sk-text-repr-fallback\"><pre>StepMix(measurement=&#x27;categorical&#x27;, verbose=1)</pre><b>In a Jupyter environment, please rerun this cell to show the HTML representation or trust the notebook. <br />On GitHub, the HTML representation is unable to render, please try loading this page with nbviewer.org.</b></div><div class=\"sk-container\" hidden><div class=\"sk-item\"><div class=\"sk-estimator sk-toggleable\"><input class=\"sk-toggleable__control sk-hidden--visually\" id=\"sk-estimator-id-6\" type=\"checkbox\" checked><label for=\"sk-estimator-id-6\" class=\"sk-toggleable__label sk-toggleable__label-arrow\">StepMix</label><div class=\"sk-toggleable__content\"><pre>StepMix(measurement=&#x27;categorical&#x27;, verbose=1)</pre></div></div></div></div></div>"
      ],
      "text/plain": [
       "StepMix(measurement='categorical', verbose=1)"
      ]
     },
     "execution_count": 29,
     "metadata": {},
     "output_type": "execute_result"
    }
   ],
   "source": [
    "exo_data=exo_combined[['Mean degree','Average shortest path length','Clustering coefficient']]\n",
    "model = StepMix(n_components=2, measurement=\"categorical\",verbose=1)\n",
    "model.fit(exo_data)"
   ]
  },
  {
   "cell_type": "code",
   "execution_count": 30,
   "id": "f48068b6",
   "metadata": {},
   "outputs": [
    {
     "name": "stdout",
     "output_type": "stream",
     "text": [
      "Has life?       0     1\n",
      "exo_predict            \n",
      "0            4288     2\n",
      "1            1388  2023\n",
      "0.7041271415248821\n"
     ]
    },
    {
     "name": "stderr",
     "output_type": "stream",
     "text": [
      "/tmp/ipykernel_14360/4091565626.py:1: SettingWithCopyWarning: \n",
      "A value is trying to be set on a copy of a slice from a DataFrame.\n",
      "Try using .loc[row_indexer,col_indexer] = value instead\n",
      "\n",
      "See the caveats in the documentation: https://pandas.pydata.org/pandas-docs/stable/user_guide/indexing.html#returning-a-view-versus-a-copy\n",
      "  exo_data['exo_predict']=model.predict(exo_data)\n"
     ]
    }
   ],
   "source": [
    "exo_data['exo_predict']=model.predict(exo_data)\n",
    "\n",
    "exo_crosstabs=pd.crosstab(exo_data['exo_predict'],exo_combined['Has life?'])\n",
    "\n",
    "print(exo_crosstabs)\n",
    "\n",
    "rand=rand_score(exo_data['exo_predict'],exo_combined['Has life?'])\n",
    "\n",
    "print(rand)"
   ]
  },
  {
   "cell_type": "code",
   "execution_count": null,
   "id": "2c5bb775",
   "metadata": {},
   "outputs": [],
   "source": [
    "# Well, that's a little better\n",
    "# Next step: investigating relationships between spectral features and network metrics"
   ]
  }
 ],
 "metadata": {
  "kernelspec": {
   "display_name": "Python 3 (ipykernel)",
   "language": "python",
   "name": "python3"
  },
  "language_info": {
   "codemirror_mode": {
    "name": "ipython",
    "version": 3
   },
   "file_extension": ".py",
   "mimetype": "text/x-python",
   "name": "python",
   "nbconvert_exporter": "python",
   "pygments_lexer": "ipython3",
   "version": "3.10.12"
  }
 },
 "nbformat": 4,
 "nbformat_minor": 5
}
