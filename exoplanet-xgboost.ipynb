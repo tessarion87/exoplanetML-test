{
 "cells": [
  {
   "cell_type": "code",
   "execution_count": 5,
   "id": "22fb8458",
   "metadata": {},
   "outputs": [],
   "source": [
    "import sklearn\n",
    "import pandas as pd\n",
    "import numpy\n",
    "import xgboost\n",
    "import sklearn.model_selection as ms\n",
    "from sklearn import metrics\n",
    "import xgboost as xgb"
   ]
  },
  {
   "cell_type": "code",
   "execution_count": 6,
   "id": "dc013620",
   "metadata": {},
   "outputs": [],
   "source": [
    "def XGB_accuracy(X, Y): \n",
    "\t# Split for training and testing\n",
    "\tx_train, x_test, y_train, y_test = ms.train_test_split(X, Y, test_size=0.2, random_state=0)\n",
    "\n",
    "\t# Fit the decision tree\n",
    "\tclassifier = xgb.XGBClassifier(objective=\"binary:logistic\", min_child_weight=10,eval_metric=[\"merror\", \"mlogloss\"], max_depth= 5, n_estimators=1000,random_state=42) \n",
    "\t# classifier = xgb.XGBClassifier(objective=\"multi:softprob\", min_child_wight=10, max_depth=3, n_estimators=500) # For test purposes\n",
    "\tclassifier = classifier.fit(x_train, y_train, verbose=False) \n",
    "\t# Predictions\n",
    "\ty_pred = classifier.predict(x_test)\n",
    "\treturn metrics.accuracy_score(y_test, y_pred)\n"
   ]
  },
  {
   "cell_type": "code",
   "execution_count": 8,
   "id": "803e0b43",
   "metadata": {},
   "outputs": [],
   "source": [
    "# Data from Fisher et al 2025\n",
    "abiotic_flux=pd.read_csv('Archean Earth flux network metrics, no life.csv') # Abiotic case\n",
    "abiotic_steady_state=pd.read_csv('Archean Earth steady state network metrics, no life.csv') # Weird steady state abiotic case\n",
    "biotic_flux=pd.read_csv('Archean Earth flux network metrics, with life.csv') # Biotic case\n",
    "anomalous_high_flux=pd.read_csv('Archean Earth agnostic high flux network metrics, no life.csv') # Weird high flux abiotic case\n",
    "exo_combined=pd.concat([abiotic_flux,abiotic_steady_state,biotic_flux,anomalous_high_flux])\n"
   ]
  },
  {
   "cell_type": "code",
   "execution_count": 9,
   "id": "d93c8335",
   "metadata": {},
   "outputs": [
    {
     "name": "stdout",
     "output_type": "stream",
     "text": [
      "The accuracy of CH4 abundance is 0.8854679802955665\n",
      "The accuracy of Mean degree is 0.9451970443349754\n",
      "The accuracy of Average shortest path length is 0.9433497536945813\n",
      "The accuracy of Node betweenness centrality is 0.8971674876847291\n",
      "The accuracy of Clustering coefficient is 0.8195812807881774\n"
     ]
    }
   ],
   "source": [
    "exo_metrics=['CH4 abundance','Mean degree','Average shortest path length','Node betweenness centrality','Clustering coefficient']\n",
    "exo_target=list(exo_combined['Has life?'])\n",
    "\n",
    "for metric in exo_metrics:\n",
    "\taccuracy=XGB_accuracy(exo_combined[metric],exo_target)\n",
    "\tprint(\"The accuracy of \"+ metric+\" is \"+str(accuracy))\n"
   ]
  },
  {
   "cell_type": "code",
   "execution_count": null,
   "id": "b622c4ff",
   "metadata": {},
   "outputs": [],
   "source": [
    "# Looking promising!"
   ]
  }
 ],
 "metadata": {
  "kernelspec": {
   "display_name": "Python 3",
   "language": "python",
   "name": "python3"
  },
  "language_info": {
   "codemirror_mode": {
    "name": "ipython",
    "version": 3
   },
   "file_extension": ".py",
   "mimetype": "text/x-python",
   "name": "python",
   "nbconvert_exporter": "python",
   "pygments_lexer": "ipython3",
   "version": "3.10.12"
  }
 },
 "nbformat": 4,
 "nbformat_minor": 5
}
