{
 "cells": [
  {
   "cell_type": "code",
   "execution_count": 9,
   "id": "e7ab1079",
   "metadata": {},
   "outputs": [],
   "source": [
    "import pandas as pd\n",
    "import numpy\n",
    "import torch\n",
    "from torch import nn\n",
    "from torch.utils.data import TensorDataset, DataLoader\n",
    "from sklearn.model_selection import train_test_split\n",
    "from sklearn.metrics import  classification_report\n",
    "import numpy as np\n",
    "import chime"
   ]
  },
  {
   "cell_type": "code",
   "execution_count": 2,
   "id": "0c08ea62",
   "metadata": {},
   "outputs": [],
   "source": [
    "# Define the neural network model\n",
    "class Classifier(nn.Module):\n",
    "    def __init__(self, input_size, hidden_size, num_classes):\n",
    "        super(Classifier, self).__init__()\n",
    "        self.fc1 = nn.Linear(input_size, hidden_size)\n",
    "        self.relu = nn.ReLU()\n",
    "        self.fc2 = nn.Linear(hidden_size, num_classes)\n",
    "\n",
    "    def forward(self, x):\n",
    "        out = self.fc1(x)\n",
    "        out = self.relu(out)\n",
    "        out = self.fc2(out)\n",
    "        return out\n",
    "\n",
    "    def train(self, train_loader, criterion, optimizer, num_epochs):\n",
    "        for epoch in range(num_epochs):\n",
    "            for inputs, labels in train_loader:\n",
    "                optimizer.zero_grad()\n",
    "                outputs = self(inputs)\n",
    "                loss = criterion(outputs, labels)\n",
    "                loss.backward()\n",
    "                optimizer.step()\n",
    "    \n",
    "    def predict(self, inputs):\n",
    "        with torch.no_grad():\n",
    "            outputs = self(inputs)\n",
    "            _, predicted = torch.max(outputs, 1)\n",
    "        return predicted"
   ]
  },
  {
   "cell_type": "code",
   "execution_count": 3,
   "id": "99056c78",
   "metadata": {},
   "outputs": [],
   "source": [
    "# Load atmospheric CRN metric data\n",
    "\n",
    "abiotic_flux=pd.read_csv('Archean Earth flux network metrics, no life.csv') # abiotic case\n",
    "biotic_flux=pd.read_csv('Archean Earth flux network metrics, with life.csv') # biotic case\n",
    "abiotic_steady_state=pd.read_csv('Archean Earth steady state network metrics, no life.csv') # weird abiotic case\n",
    "\n",
    "exo_combined=pd.concat([abiotic_flux,biotic_flux,abiotic_steady_state])\n",
    "exo_data=exo_combined[['Mean degree','Average shortest path length','CH4 abundance']]\n",
    "exo_target=exo_combined['Has life?']"
   ]
  },
  {
   "cell_type": "code",
   "execution_count": 4,
   "id": "213787f9",
   "metadata": {},
   "outputs": [],
   "source": [
    "# Define classifier input values\n",
    "input_size = exo_data.shape[1]\n",
    "hidden_size = 100\n",
    "num_classes=2 # because, hey, a planet either has life, or it doesn't!\n",
    "learning_rate = 0.01\n",
    "batch_size = 32\n",
    "num_epochs = 100\n",
    "\n",
    "X_train, X_test, y_train, y_test = train_test_split(exo_data,exo_target, test_size=0.2, random_state=23) \n"
   ]
  },
  {
   "cell_type": "code",
   "execution_count": 5,
   "id": "b34945ab",
   "metadata": {},
   "outputs": [],
   "source": [
    "# Convert the data into PyTorch tensors, create datasets, and then tensors\n",
    "X_train_tensor = torch.tensor(X_train.values, dtype=torch.float32)\n",
    "y_train_tensor = torch.tensor(y_train.values, dtype=torch.long)\n",
    "\n",
    "train_dataset = TensorDataset(X_train_tensor, y_train_tensor)\n",
    "train_loader = DataLoader(train_dataset, batch_size=batch_size, shuffle=True) "
   ]
  },
  {
   "cell_type": "code",
   "execution_count": 10,
   "id": "008d1f39",
   "metadata": {},
   "outputs": [],
   "source": [
    "# Train Model\n",
    "\n",
    "model = Classifier(input_size, hidden_size, num_classes)\n",
    "criterion = nn.CrossEntropyLoss()\n",
    "optimizer = torch.optim.SGD(model.parameters(), lr=learning_rate)\n",
    "model.train(train_loader, criterion, optimizer, num_epochs)\n",
    "chime.success()\n"
   ]
  },
  {
   "cell_type": "code",
   "execution_count": 11,
   "id": "86247cde",
   "metadata": {},
   "outputs": [
    {
     "name": "stdout",
     "output_type": "stream",
     "text": [
      "Accuracy: 0.8533419857235561\n",
      "              precision    recall  f1-score   support\n",
      "\n",
      "           0       0.83      1.00      0.91      1123\n",
      "           1       0.98      0.47      0.63       418\n",
      "\n",
      "    accuracy                           0.85      1541\n",
      "   macro avg       0.91      0.73      0.77      1541\n",
      "weighted avg       0.87      0.85      0.83      1541\n",
      "\n"
     ]
    }
   ],
   "source": [
    "# Test model\n",
    "\n",
    "X_test_tensor = torch.tensor(X_test.values, dtype=torch.float32)\n",
    "y_pred = model.predict(X_test_tensor)\n",
    "y_pred_np = np.array(y_pred)\n",
    "\n",
    "correct = sum(y_test == y_pred_np)\n",
    "accuracy = correct / len(y_test)\n",
    "print(\"Accuracy:\", accuracy)\n",
    "print(classification_report(y_test, y_pred_np))"
   ]
  },
  {
   "cell_type": "code",
   "execution_count": null,
   "id": "10580fdc",
   "metadata": {},
   "outputs": [],
   "source": [
    "Not too "
   ]
  }
 ],
 "metadata": {
  "kernelspec": {
   "display_name": "Python 3 (ipykernel)",
   "language": "python",
   "name": "python3"
  },
  "language_info": {
   "codemirror_mode": {
    "name": "ipython",
    "version": 3
   },
   "file_extension": ".py",
   "mimetype": "text/x-python",
   "name": "python",
   "nbconvert_exporter": "python",
   "pygments_lexer": "ipython3",
   "version": "3.10.12"
  }
 },
 "nbformat": 4,
 "nbformat_minor": 5
}
